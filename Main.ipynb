{
 "cells": [
  {
   "cell_type": "code",
   "execution_count": 1,
   "metadata": {},
   "outputs": [
    {
     "name": "stderr",
     "output_type": "stream",
     "text": [
      "C:\\Users\\aquat\\AppData\\Local\\Temp\\ipykernel_12748\\321412031.py:8: MatplotlibDeprecationWarning: The seaborn styles shipped by Matplotlib are deprecated since 3.6, as they no longer correspond to the styles shipped by seaborn. However, they will remain available as 'seaborn-v0_8-<style>'. Alternatively, directly use the seaborn API instead.\n",
      "  plt.style.use('seaborn')\n"
     ]
    }
   ],
   "source": [
    "import os\n",
    "import cv2\n",
    "from PIL import Image\n",
    "import numpy as np\n",
    "import scipy\n",
    "import pandas as pd\n",
    "import matplotlib.pyplot as plt\n",
    "plt.style.use('seaborn')\n",
    "\n",
    "from sklearn import metrics\n",
    "from sklearn.model_selection import train_test_split\n",
    "from sklearn.metrics import classification_report\n",
    "from tqdm import tqdm\n",
    "\n",
    "import time\n",
    "import timeit"
   ]
  },
  {
   "cell_type": "code",
   "execution_count": 2,
   "metadata": {},
   "outputs": [],
   "source": [
    "import keras\n",
    "import tensorflow as tf\n",
    "from keras import layers\n",
    "from keras.models import Model\n",
    "from keras.layers import Lambda, concatenate\n",
    "from tensorflow.keras.utils import to_categorical\n",
    "from keras.preprocessing.image import ImageDataGenerator\n",
    "from keras.models import Sequential\n",
    "from keras.layers import GlobalAveragePooling2D , Conv2D , MaxPooling2D\n",
    "from keras.layers import  Dropout , BatchNormalization , Dense\n",
    "from keras.optimizers import Adam\n",
    "from tensorflow.keras.applications import ResNet50\n",
    "from keras.callbacks import Callback , ReduceLROnPlateau , ModelCheckpoint\n",
    "from sklearn.metrics import cohen_kappa_score, accuracy_score\n",
    "from keras.losses import categorical_crossentropy as logloss\n",
    "from keras.metrics import categorical_accuracy\n",
    "     "
   ]
  },
  {
   "cell_type": "code",
   "execution_count": 3,
   "metadata": {},
   "outputs": [],
   "source": [
    "# Loading Dataset\n",
    "\n",
    "nonDemented_train = np.load('/CSE499/non_demented_train.npy')\n",
    "nonDemented_test = np.load('/CSE499/non_demented_test.npy')\n",
    "\n",
    "veryMildDemented_train = np.load('/CSE499/very_mild_demented_train.npy')\n",
    "veryMildDemented_test = np.load('/CSE499/very_mild_demented_test.npy')\n",
    "\n",
    "mildDemented_train = np.load('/CSE499/mild_demented_train.npy')\n",
    "mildDemented_test = np.load('/CSE499/mild_demented_test.npy')\n",
    "\n",
    "moderateDemented_train = np.load('/CSE499/moderate_demented_train.npy')\n",
    "moderateDemented_test = np.load('/CSE499/moderate_demented_test.npy')"
   ]
  },
  {
   "cell_type": "code",
   "execution_count": 4,
   "metadata": {},
   "outputs": [
    {
     "name": "stdout",
     "output_type": "stream",
     "text": [
      "Non Demented Train:  (2560, 128, 128, 1)\n",
      "Very Mild Demented Train:  (1792, 128, 128, 1)\n",
      "Mild Demented Train:  (716, 128, 128, 1)\n",
      "Moderate Demented Train:  (51, 128, 128, 1)\n",
      "Non Demented Test:  (640, 128, 128, 1)\n",
      "Very Mild Demented Test:  (448, 128, 128, 1)\n",
      "Mild Demented Test:  (180, 128, 128, 1)\n",
      "Moderate Demented Test:  (13, 128, 128, 1)\n"
     ]
    }
   ],
   "source": [
    "# Shape of our dataset\n",
    "print(f'Non Demented Train: ',nonDemented_train.shape)\n",
    "print(f'Very Mild Demented Train: ',veryMildDemented_train.shape)\n",
    "print(f'Mild Demented Train: ',mildDemented_train.shape)\n",
    "print(f'Moderate Demented Train: ',moderateDemented_train.shape)\n",
    "\n",
    "print(f'Non Demented Test: ',nonDemented_test.shape)\n",
    "print(f'Very Mild Demented Test: ',veryMildDemented_test.shape)\n",
    "print(f'Mild Demented Test: ',mildDemented_test.shape)\n",
    "print(f'Moderate Demented Test: ',moderateDemented_test.shape)"
   ]
  },
  {
   "cell_type": "code",
   "execution_count": 40,
   "metadata": {},
   "outputs": [],
   "source": [
    "from sklearn.utils import shuffle\n",
    "\n",
    "# Assuming you have loaded and split your data into X_train, Y_train, X_test, and Y_test\n",
    "\n",
    "# Initialize empty lists to hold data and labels\n",
    "data_train = []\n",
    "labels_train = []\n",
    "data_test = []\n",
    "labels_test = []\n",
    "\n",
    "# For the \"Non_Demented\" class\n",
    "data_train.extend(nonDemented_train)\n",
    "labels_train.extend([0] * len(nonDemented_train))\n",
    "data_test.extend(nonDemented_test)\n",
    "labels_test.extend([0] * len(nonDemented_test))\n",
    "\n",
    "# For the \"Very_Mild_Demented\" class\n",
    "data_train.extend(veryMildDemented_train)\n",
    "labels_train.extend([1] * len(veryMildDemented_train))\n",
    "data_test.extend(veryMildDemented_test)\n",
    "labels_test.extend([1] * len(veryMildDemented_test))\n",
    "\n",
    "# For the \"Mild_Demented\" class\n",
    "data_train.extend(mildDemented_train)\n",
    "labels_train.extend([2] * len(mildDemented_train))\n",
    "data_test.extend(mildDemented_test)\n",
    "labels_test.extend([2] * len(mildDemented_test))\n",
    "\n",
    "# For the \"Moderate_Demented\" class\n",
    "data_train.extend(moderateDemented_train)\n",
    "labels_train.extend([3] * len(moderateDemented_train))\n",
    "data_test.extend(moderateDemented_test)\n",
    "labels_test.extend([3] * len(moderateDemented_test))\n",
    "\n",
    "# Convert lists to NumPy arrays\n",
    "X_train = np.array(data_train)\n",
    "Y_train = np.array(labels_train)\n",
    "X_test = np.array(data_test)\n",
    "Y_test = np.array(labels_test)\n",
    "\n",
    "# Shuffle the data and labels\n",
    "X_train, Y_train = shuffle(X_train, Y_train, random_state=42)\n",
    "X_test, Y_test = shuffle(X_test, Y_test, random_state=42)\n",
    "\n",
    "# Convert labels to one-hot encoded format\n",
    "Y_train = to_categorical(Y_train, num_classes=4)\n",
    "Y_test = to_categorical(Y_test, num_classes=4)\n"
   ]
  },
  {
   "cell_type": "code",
   "execution_count": 41,
   "metadata": {},
   "outputs": [
    {
     "name": "stdout",
     "output_type": "stream",
     "text": [
      "X train shape: (5119, 128, 128, 1)\n",
      "X test shape: (1281, 128, 128, 1)\n",
      "Y train shape: (5119, 4)\n",
      "Y test shape: (1281, 4)\n"
     ]
    }
   ],
   "source": [
    "print(f'X train shape:',X_train.shape)\n",
    "print(f'X test shape:',X_test.shape)\n",
    "print(f'Y train shape:',Y_train.shape)\n",
    "print(f'Y test shape:',Y_test.shape)"
   ]
  },
  {
   "cell_type": "code",
   "execution_count": 42,
   "metadata": {},
   "outputs": [],
   "source": [
    "x_train, x_val, y_train, y_val = train_test_split(X_train, Y_train, test_size=0.2, random_state=10)"
   ]
  },
  {
   "cell_type": "code",
   "execution_count": 43,
   "metadata": {},
   "outputs": [
    {
     "name": "stdout",
     "output_type": "stream",
     "text": [
      "x train shape: (4095, 128, 128, 1)\n",
      "x val shape: (1024, 128, 128, 1)\n",
      "y train shape: (4095, 4)\n",
      "y val shape: (1024, 4)\n"
     ]
    }
   ],
   "source": [
    "print(f'x train shape:',x_train.shape)\n",
    "print(f'x val shape:',x_val.shape)\n",
    "print(f'y train shape:',y_train.shape)\n",
    "print(f'y val shape:',y_val.shape)"
   ]
  },
  {
   "cell_type": "code",
   "execution_count": 44,
   "metadata": {},
   "outputs": [
    {
     "name": "stdout",
     "output_type": "stream",
     "text": [
      "Model: \"sequential_5\"\n",
      "_________________________________________________________________\n",
      " Layer (type)                Output Shape              Param #   \n",
      "=================================================================\n",
      " resnet50 (Functional)       (None, 4, 4, 2048)        23587712  \n",
      "                                                                 \n",
      " global_average_pooling2d_5   (None, 2048)             0         \n",
      " (GlobalAveragePooling2D)                                        \n",
      "                                                                 \n",
      " dropout_5 (Dropout)         (None, 2048)              0         \n",
      "                                                                 \n",
      " batch_normalization_5 (Batc  (None, 2048)             8192      \n",
      " hNormalization)                                                 \n",
      "                                                                 \n",
      " dense_5 (Dense)             (None, 4)                 8196      \n",
      "                                                                 \n",
      "=================================================================\n",
      "Total params: 23,604,100\n",
      "Trainable params: 23,546,884\n",
      "Non-trainable params: 57,216\n",
      "_________________________________________________________________\n"
     ]
    }
   ],
   "source": [
    "# Teacher model with ResNet50\n",
    "\n",
    "def build_model(backbone, lr=1e-4):\n",
    "    model = Sequential()\n",
    "    model.add(backbone)\n",
    "    model.add(GlobalAveragePooling2D())\n",
    "    model.add(Dropout(0.5))\n",
    "    model.add(BatchNormalization())\n",
    "    model.add(Dense(4, activation='softmax'))  # Adjusted for 4 classes\n",
    "    \n",
    "    model.compile(\n",
    "        loss='categorical_crossentropy',  # Adjusted for multi-class classification\n",
    "        optimizer=Adam(learning_rate=lr),\n",
    "        metrics=['accuracy']\n",
    "    )\n",
    "    \n",
    "    return model\n",
    "\n",
    "# Load ResNet50 with weights pre-trained on ImageNet\n",
    "resnet = ResNet50(\n",
    "    weights='imagenet',\n",
    "    include_top=False,\n",
    "    input_shape=(128, 128, 3)\n",
    ")\n",
    "\n",
    "# Call the model with the modified settings\n",
    "model = build_model(resnet, lr=1e-4, num_classes=4)\n",
    "model.build((None, 128, 128, 3))\n",
    "model.summary()\n"
   ]
  },
  {
   "cell_type": "code",
   "execution_count": 45,
   "metadata": {},
   "outputs": [],
   "source": [
    "learn_control = ReduceLROnPlateau(monitor='val_acc', patience=5,verbose=1,factor=0.2, min_lr=1e-4)\n",
    "filepath=\"ResNet50weights.best.hdf5\"\n",
    "checkpoint = ModelCheckpoint(filepath, monitor='val_acc', verbose=1, save_best_only=True, mode='max')"
   ]
  },
  {
   "cell_type": "code",
   "execution_count": 46,
   "metadata": {},
   "outputs": [
    {
     "name": "stdout",
     "output_type": "stream",
     "text": [
      "Epoch 1/10\n"
     ]
    },
    {
     "ename": "ValueError",
     "evalue": "in user code:\n\n    File \"c:\\Users\\aquat\\AppData\\Local\\Programs\\Python\\Python311\\Lib\\site-packages\\keras\\engine\\training.py\", line 1284, in train_function  *\n        return step_function(self, iterator)\n    File \"c:\\Users\\aquat\\AppData\\Local\\Programs\\Python\\Python311\\Lib\\site-packages\\keras\\engine\\training.py\", line 1268, in step_function  **\n        outputs = model.distribute_strategy.run(run_step, args=(data,))\n    File \"c:\\Users\\aquat\\AppData\\Local\\Programs\\Python\\Python311\\Lib\\site-packages\\keras\\engine\\training.py\", line 1249, in run_step  **\n        outputs = model.train_step(data)\n    File \"c:\\Users\\aquat\\AppData\\Local\\Programs\\Python\\Python311\\Lib\\site-packages\\keras\\engine\\training.py\", line 1050, in train_step\n        y_pred = self(x, training=True)\n    File \"c:\\Users\\aquat\\AppData\\Local\\Programs\\Python\\Python311\\Lib\\site-packages\\keras\\utils\\traceback_utils.py\", line 70, in error_handler\n        raise e.with_traceback(filtered_tb) from None\n    File \"c:\\Users\\aquat\\AppData\\Local\\Programs\\Python\\Python311\\Lib\\site-packages\\keras\\engine\\input_spec.py\", line 280, in assert_input_compatibility\n        raise ValueError(\n\n    ValueError: Exception encountered when calling layer 'resnet50' (type Functional).\n    \n    Input 0 of layer \"conv1_conv\" is incompatible with the layer: expected axis -1 of input shape to have value 3, but received input with shape (None, 134, 134, 1)\n    \n    Call arguments received by layer 'resnet50' (type Functional):\n      • inputs=tf.Tensor(shape=(None, 128, 128, 1), dtype=float32)\n      • training=True\n      • mask=None\n",
     "output_type": "error",
     "traceback": [
      "\u001b[1;31m---------------------------------------------------------------------------\u001b[0m",
      "\u001b[1;31mValueError\u001b[0m                                Traceback (most recent call last)",
      "\u001b[1;32mh:\\CSE499\\Main.ipynb Cell 11\u001b[0m line \u001b[0;36m1\n\u001b[0;32m      <a href='vscode-notebook-cell:/h%3A/CSE499/Main.ipynb#X13sZmlsZQ%3D%3D?line=7'>8</a>\u001b[0m \u001b[39m# Calculate the starting time    \u001b[39;00m\n\u001b[0;32m      <a href='vscode-notebook-cell:/h%3A/CSE499/Main.ipynb#X13sZmlsZQ%3D%3D?line=8'>9</a>\u001b[0m start_time \u001b[39m=\u001b[39m time\u001b[39m.\u001b[39mtime()\n\u001b[1;32m---> <a href='vscode-notebook-cell:/h%3A/CSE499/Main.ipynb#X13sZmlsZQ%3D%3D?line=10'>11</a>\u001b[0m teacher_his \u001b[39m=\u001b[39m model\u001b[39m.\u001b[39;49mfit(x_train, y_train,\n\u001b[0;32m     <a href='vscode-notebook-cell:/h%3A/CSE499/Main.ipynb#X13sZmlsZQ%3D%3D?line=11'>12</a>\u001b[0m             batch_size\u001b[39m=\u001b[39;49mbatch_size,\n\u001b[0;32m     <a href='vscode-notebook-cell:/h%3A/CSE499/Main.ipynb#X13sZmlsZQ%3D%3D?line=12'>13</a>\u001b[0m             epochs\u001b[39m=\u001b[39;49mepochs,\n\u001b[0;32m     <a href='vscode-notebook-cell:/h%3A/CSE499/Main.ipynb#X13sZmlsZQ%3D%3D?line=13'>14</a>\u001b[0m             verbose\u001b[39m=\u001b[39;49m\u001b[39m1\u001b[39;49m,\n\u001b[0;32m     <a href='vscode-notebook-cell:/h%3A/CSE499/Main.ipynb#X13sZmlsZQ%3D%3D?line=14'>15</a>\u001b[0m             validation_data\u001b[39m=\u001b[39;49m(x_val, y_val),\n\u001b[0;32m     <a href='vscode-notebook-cell:/h%3A/CSE499/Main.ipynb#X13sZmlsZQ%3D%3D?line=15'>16</a>\u001b[0m             callbacks\u001b[39m=\u001b[39;49m[learn_control, checkpoint])\n\u001b[0;32m     <a href='vscode-notebook-cell:/h%3A/CSE499/Main.ipynb#X13sZmlsZQ%3D%3D?line=18'>19</a>\u001b[0m end_time \u001b[39m=\u001b[39m time\u001b[39m.\u001b[39mtime()\n\u001b[0;32m     <a href='vscode-notebook-cell:/h%3A/CSE499/Main.ipynb#X13sZmlsZQ%3D%3D?line=19'>20</a>\u001b[0m \u001b[39mprint\u001b[39m(\u001b[39m\"\u001b[39m\u001b[39m--- Time taken to train : \u001b[39m\u001b[39m%s\u001b[39;00m\u001b[39m seconds ---\u001b[39m\u001b[39m\"\u001b[39m \u001b[39m%\u001b[39m ((end_time \u001b[39m-\u001b[39m start_time)))\n",
      "File \u001b[1;32mc:\\Users\\aquat\\AppData\\Local\\Programs\\Python\\Python311\\Lib\\site-packages\\keras\\utils\\traceback_utils.py:70\u001b[0m, in \u001b[0;36mfilter_traceback.<locals>.error_handler\u001b[1;34m(*args, **kwargs)\u001b[0m\n\u001b[0;32m     67\u001b[0m     filtered_tb \u001b[39m=\u001b[39m _process_traceback_frames(e\u001b[39m.\u001b[39m__traceback__)\n\u001b[0;32m     68\u001b[0m     \u001b[39m# To get the full stack trace, call:\u001b[39;00m\n\u001b[0;32m     69\u001b[0m     \u001b[39m# `tf.debugging.disable_traceback_filtering()`\u001b[39;00m\n\u001b[1;32m---> 70\u001b[0m     \u001b[39mraise\u001b[39;00m e\u001b[39m.\u001b[39mwith_traceback(filtered_tb) \u001b[39mfrom\u001b[39;00m \u001b[39mNone\u001b[39;00m\n\u001b[0;32m     71\u001b[0m \u001b[39mfinally\u001b[39;00m:\n\u001b[0;32m     72\u001b[0m     \u001b[39mdel\u001b[39;00m filtered_tb\n",
      "File \u001b[1;32m~\\AppData\\Local\\Temp\\__autograph_generated_fileft5kjnt5.py:15\u001b[0m, in \u001b[0;36mouter_factory.<locals>.inner_factory.<locals>.tf__train_function\u001b[1;34m(iterator)\u001b[0m\n\u001b[0;32m     13\u001b[0m \u001b[39mtry\u001b[39;00m:\n\u001b[0;32m     14\u001b[0m     do_return \u001b[39m=\u001b[39m \u001b[39mTrue\u001b[39;00m\n\u001b[1;32m---> 15\u001b[0m     retval_ \u001b[39m=\u001b[39m ag__\u001b[39m.\u001b[39mconverted_call(ag__\u001b[39m.\u001b[39mld(step_function), (ag__\u001b[39m.\u001b[39mld(\u001b[39mself\u001b[39m), ag__\u001b[39m.\u001b[39mld(iterator)), \u001b[39mNone\u001b[39;00m, fscope)\n\u001b[0;32m     16\u001b[0m \u001b[39mexcept\u001b[39;00m:\n\u001b[0;32m     17\u001b[0m     do_return \u001b[39m=\u001b[39m \u001b[39mFalse\u001b[39;00m\n",
      "\u001b[1;31mValueError\u001b[0m: in user code:\n\n    File \"c:\\Users\\aquat\\AppData\\Local\\Programs\\Python\\Python311\\Lib\\site-packages\\keras\\engine\\training.py\", line 1284, in train_function  *\n        return step_function(self, iterator)\n    File \"c:\\Users\\aquat\\AppData\\Local\\Programs\\Python\\Python311\\Lib\\site-packages\\keras\\engine\\training.py\", line 1268, in step_function  **\n        outputs = model.distribute_strategy.run(run_step, args=(data,))\n    File \"c:\\Users\\aquat\\AppData\\Local\\Programs\\Python\\Python311\\Lib\\site-packages\\keras\\engine\\training.py\", line 1249, in run_step  **\n        outputs = model.train_step(data)\n    File \"c:\\Users\\aquat\\AppData\\Local\\Programs\\Python\\Python311\\Lib\\site-packages\\keras\\engine\\training.py\", line 1050, in train_step\n        y_pred = self(x, training=True)\n    File \"c:\\Users\\aquat\\AppData\\Local\\Programs\\Python\\Python311\\Lib\\site-packages\\keras\\utils\\traceback_utils.py\", line 70, in error_handler\n        raise e.with_traceback(filtered_tb) from None\n    File \"c:\\Users\\aquat\\AppData\\Local\\Programs\\Python\\Python311\\Lib\\site-packages\\keras\\engine\\input_spec.py\", line 280, in assert_input_compatibility\n        raise ValueError(\n\n    ValueError: Exception encountered when calling layer 'resnet50' (type Functional).\n    \n    Input 0 of layer \"conv1_conv\" is incompatible with the layer: expected axis -1 of input shape to have value 3, but received input with shape (None, 134, 134, 1)\n    \n    Call arguments received by layer 'resnet50' (type Functional):\n      • inputs=tf.Tensor(shape=(None, 128, 128, 1), dtype=float32)\n      • training=True\n      • mask=None\n"
     ]
    }
   ],
   "source": [
    "# Training the teacher model with Resnet50\n",
    "# Train the teacher model as usual\n",
    "# Configuration\n",
    "import time\n",
    "epochs = 10 \n",
    "batch_size = 64\n",
    "\n",
    "# Calculate the starting time    \n",
    "start_time = time.time()\n",
    "\n",
    "teacher_his = model.fit(x_train, y_train,\n",
    "            batch_size=batch_size,\n",
    "            epochs=epochs,\n",
    "            verbose=1,\n",
    "            validation_data=(x_val, y_val),\n",
    "            callbacks=[learn_control, checkpoint])\n",
    "\n",
    "\n",
    "end_time = time.time()\n",
    "print(\"--- Time taken to train : %s seconds ---\" % ((end_time - start_time)))"
   ]
  }
 ],
 "metadata": {
  "kernelspec": {
   "display_name": "Python 3",
   "language": "python",
   "name": "python3"
  },
  "language_info": {
   "codemirror_mode": {
    "name": "ipython",
    "version": 3
   },
   "file_extension": ".py",
   "mimetype": "text/x-python",
   "name": "python",
   "nbconvert_exporter": "python",
   "pygments_lexer": "ipython3",
   "version": "3.11.1"
  },
  "orig_nbformat": 4
 },
 "nbformat": 4,
 "nbformat_minor": 2
}
