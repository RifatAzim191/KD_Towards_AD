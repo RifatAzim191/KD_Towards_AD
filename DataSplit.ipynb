{
 "cells": [
  {
   "cell_type": "code",
   "execution_count": 6,
   "metadata": {},
   "outputs": [],
   "source": [
    "import numpy as np\n",
    "\n",
    "# Load the dataset\n",
    "dataset = np.load('/CSE499A/Dataset/ConvertedDataset/Non_Demented.npy')\n",
    "\n",
    "# Shuffle the dataset\n",
    "np.random.shuffle(dataset)\n",
    "\n",
    "# Split the dataset into training and testing sets\n",
    "train_ratio = 0.75  # 80% for training\n",
    "train_size = int(train_ratio * len(dataset))\n",
    "\n",
    "train_data, test_data = np.split(dataset, [train_size])\n",
    "\n",
    "np.save('/CSE499A/Train_Test/Non_Demented_Train.npy', train_data)\n",
    "np.save('/CSE499A/Train_Test/Non_Demented_Test.npy', test_data)"
   ]
  },
  {
   "cell_type": "code",
   "execution_count": 7,
   "metadata": {},
   "outputs": [],
   "source": [
    "import numpy as np\n",
    "\n",
    "# Load the dataset\n",
    "dataset = np.load('/CSE499A/Dataset/ConvertedDataset/Very_Mild_Demented.npy')\n",
    "\n",
    "# Shuffle the dataset\n",
    "np.random.shuffle(dataset)\n",
    "\n",
    "# Split the dataset into training and testing sets\n",
    "train_ratio = 0.75  # 80% for training\n",
    "train_size = int(train_ratio * len(dataset))\n",
    "\n",
    "train_data, test_data = np.split(dataset, [train_size])\n",
    "\n",
    "np.save('/CSE499A/Train_Test/VeryMild_Demented_Train.npy', train_data)\n",
    "np.save('/CSE499A/Train_Test/VeryMild_Demented_Test.npy', test_data)"
   ]
  },
  {
   "cell_type": "code",
   "execution_count": 8,
   "metadata": {},
   "outputs": [],
   "source": [
    "import numpy as np\n",
    "\n",
    "# Load the dataset\n",
    "dataset = np.load('/CSE499A/Dataset/ConvertedDataset/Mild_Demented.npy')\n",
    "\n",
    "# Shuffle the dataset\n",
    "np.random.shuffle(dataset)\n",
    "\n",
    "# Split the dataset into training and testing sets\n",
    "train_ratio = 0.75  # 80% for training\n",
    "train_size = int(train_ratio * len(dataset))\n",
    "\n",
    "train_data, test_data = np.split(dataset, [train_size])\n",
    "\n",
    "np.save('/CSE499A/Train_Test/Mild_Demented_Train.npy', train_data)\n",
    "np.save('/CSE499A/Train_Test/Mild_Demented_Test.npy', test_data)"
   ]
  },
  {
   "cell_type": "code",
   "execution_count": 9,
   "metadata": {},
   "outputs": [],
   "source": [
    "import numpy as np\n",
    "\n",
    "# Load the dataset\n",
    "dataset = np.load('/CSE499A/Dataset/ConvertedDataset/Moderate_Demented.npy')\n",
    "\n",
    "# Shuffle the dataset\n",
    "np.random.shuffle(dataset)\n",
    "\n",
    "# Split the dataset into training and testing sets\n",
    "train_ratio = 0.75  # 80% for training\n",
    "train_size = int(train_ratio * len(dataset))\n",
    "\n",
    "train_data, test_data = np.split(dataset, [train_size])\n",
    "\n",
    "np.save('/CSE499A/Train_Test/Moderate_Demented_Train.npy', train_data)\n",
    "np.save('/CSE499A/Train_Test/Moderate_Demented_Test.npy', test_data)"
   ]
  }
 ],
 "metadata": {
  "kernelspec": {
   "display_name": "Python 3",
   "language": "python",
   "name": "python3"
  },
  "language_info": {
   "codemirror_mode": {
    "name": "ipython",
    "version": 3
   },
   "file_extension": ".py",
   "mimetype": "text/x-python",
   "name": "python",
   "nbconvert_exporter": "python",
   "pygments_lexer": "ipython3",
   "version": "3.11.1"
  },
  "orig_nbformat": 4
 },
 "nbformat": 4,
 "nbformat_minor": 2
}
