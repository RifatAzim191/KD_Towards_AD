{
 "cells": [
  {
   "cell_type": "code",
   "execution_count": 1,
   "metadata": {},
   "outputs": [
    {
     "name": "stderr",
     "output_type": "stream",
     "text": [
      "C:\\Users\\aquat\\AppData\\Local\\Temp\\ipykernel_7532\\236138535.py:8: MatplotlibDeprecationWarning: The seaborn styles shipped by Matplotlib are deprecated since 3.6, as they no longer correspond to the styles shipped by seaborn. However, they will remain available as 'seaborn-v0_8-<style>'. Alternatively, directly use the seaborn API instead.\n",
      "  plt.style.use('seaborn')\n"
     ]
    }
   ],
   "source": [
    "import os\n",
    "import cv2\n",
    "from PIL import Image\n",
    "import numpy as np\n",
    "import scipy\n",
    "import pandas as pd\n",
    "import matplotlib.pyplot as plt\n",
    "plt.style.use('seaborn')\n",
    "\n",
    "from sklearn import metrics\n",
    "from sklearn.model_selection import train_test_split\n",
    "from sklearn.metrics import classification_report\n",
    "from sklearn.metrics import auc, roc_curve\n",
    "from tqdm import tqdm\n",
    "\n",
    "import time"
   ]
  },
  {
   "cell_type": "code",
   "execution_count": 2,
   "metadata": {},
   "outputs": [],
   "source": [
    "import keras\n",
    "import tensorflow as tf\n",
    "from keras import layers\n",
    "from keras.models import Model\n",
    "from keras.layers import Lambda, concatenate\n",
    "from keras.utils import to_categorical\n",
    "from keras.preprocessing.image import ImageDataGenerator\n",
    "from keras.models import Sequential\n",
    "from keras.layers import GlobalAveragePooling2D , Conv2D , MaxPooling2D\n",
    "from keras.layers import  Dropout , BatchNormalization , Dense\n",
    "from keras.optimizers import Adam\n",
    "from keras.applications import ResNet50\n",
    "from keras.callbacks import Callback , ReduceLROnPlateau , ModelCheckpoint\n",
    "from sklearn.metrics import cohen_kappa_score, accuracy_score\n",
    "from keras.losses import categorical_crossentropy as logloss\n",
    "from keras.metrics import categorical_accuracy"
   ]
  },
  {
   "cell_type": "code",
   "execution_count": 3,
   "metadata": {},
   "outputs": [
    {
     "name": "stdout",
     "output_type": "stream",
     "text": [
      "Dataset Loaded!\n"
     ]
    }
   ],
   "source": [
    "# Loading Dataset\n",
    "\n",
    "nonDemented_train = np.load('/CSE499A/Train_Test/Non_Demented_Train.npy')\n",
    "nonDemented_test = np.load('/CSE499A/Train_Test/Non_Demented_Test.npy')\n",
    "\n",
    "veryMildDemented_train = np.load('/CSE499A/Train_Test/VeryMild_Demented_Train.npy')\n",
    "veryMildDemented_test = np.load('/CSE499A/Train_Test/VeryMild_Demented_Test.npy')\n",
    "\n",
    "mildDemented_train = np.load('/CSE499A/Train_Test/Mild_Demented_Train.npy')\n",
    "mildDemented_test = np.load('/CSE499A/Train_Test/Mild_Demented_Test.npy')\n",
    "\n",
    "moderateDemented_train = np.load('/CSE499A/Train_Test/Moderate_Demented_Train.npy')\n",
    "moderateDemented_test = np.load('/CSE499A/Train_Test/Moderate_Demented_Test.npy')\n",
    "\n",
    "\n",
    "# Check if the datasets are loaded\n",
    "\n",
    "if nonDemented_train.size > 0 and veryMildDemented_train.size > 0 and mildDemented_train.size > 0 and moderateDemented_train.size > 0:\n",
    "    print('Dataset Loaded!')\n",
    "else:\n",
    "    print('Dataset Load failed!')"
   ]
  },
  {
   "cell_type": "code",
   "execution_count": 4,
   "metadata": {},
   "outputs": [
    {
     "name": "stdout",
     "output_type": "stream",
     "text": [
      "Non Demented Train:  (2400, 128, 128, 3)\n",
      "Very Mild Demented Train:  (1680, 128, 128, 3)\n",
      "Mild Demented Train:  (672, 128, 128, 3)\n",
      "Moderate Demented Train:  (48, 128, 128, 3)\n",
      "Non Demented Test:  (800, 128, 128, 3)\n",
      "Very Mild Demented Test:  (560, 128, 128, 3)\n",
      "Mild Demented Test:  (224, 128, 128, 3)\n",
      "Moderate Demented Test:  (16, 128, 128, 3)\n"
     ]
    }
   ],
   "source": [
    "# Shape of our dataset\n",
    "print(f'Non Demented Train: ',nonDemented_train.shape)\n",
    "print(f'Very Mild Demented Train: ',veryMildDemented_train.shape)\n",
    "print(f'Mild Demented Train: ',mildDemented_train.shape)\n",
    "print(f'Moderate Demented Train: ',moderateDemented_train.shape)\n",
    "print(f'Non Demented Test: ',nonDemented_test.shape)\n",
    "print(f'Very Mild Demented Test: ',veryMildDemented_test.shape)\n",
    "print(f'Mild Demented Test: ',mildDemented_test.shape)\n",
    "print(f'Moderate Demented Test: ',moderateDemented_test.shape)"
   ]
  },
  {
   "cell_type": "code",
   "execution_count": 5,
   "metadata": {},
   "outputs": [],
   "source": [
    "# Set to class 0 and class 3\n",
    "nonDemented_train_label = np.zeros(len(nonDemented_train),dtype=float)\n",
    "veryMildDemented_train_label = np.zeros(len(veryMildDemented_train),dtype=float)\n",
    "mildDemented_train_label = np.ones(len(mildDemented_train),dtype=float)\n",
    "moderateDemented_train_label = np.ones(len(moderateDemented_train),dtype=float)\n",
    "\n",
    "nonDemented_test_label = np.zeros(len(nonDemented_test),dtype=float)\n",
    "veryMildDemented_test_label = np.zeros(len(veryMildDemented_test),dtype=float)\n",
    "mildDemented_test_label = np.ones(len(mildDemented_test),dtype=float)\n",
    "moderateDemented_test_label = np.ones(len(moderateDemented_test),dtype=float)\n",
    "\n",
    "X_train = np.concatenate((nonDemented_train, veryMildDemented_train, mildDemented_train, moderateDemented_train), axis = 0)\n",
    "Y_train = np.concatenate((nonDemented_train_label, veryMildDemented_train_label, mildDemented_train_label, moderateDemented_train_label), axis = 0)\n",
    "X_test = np.concatenate((nonDemented_test, veryMildDemented_test, mildDemented_test, moderateDemented_test), axis = 0)\n",
    "Y_test = np.concatenate((nonDemented_test_label, veryMildDemented_test_label, mildDemented_test_label, moderateDemented_test_label), axis = 0)\n",
    "\n",
    "s = np.arange(X_train.shape[0])\n",
    "np.random.shuffle(s)\n",
    "X_train = X_train[s]\n",
    "Y_train = Y_train[s]\n",
    "\n",
    "s = np.arange(X_test.shape[0])\n",
    "np.random.shuffle(s)\n",
    "X_test = X_test[s]\n",
    "Y_test = Y_test[s]\n",
    "\n",
    "Y_train = to_categorical(Y_train, num_classes= 2)\n",
    "Y_test = to_categorical(Y_test, num_classes= 2)"
   ]
  },
  {
   "cell_type": "code",
   "execution_count": 6,
   "metadata": {},
   "outputs": [
    {
     "name": "stdout",
     "output_type": "stream",
     "text": [
      "X train shape: (4800, 128, 128, 3)\n",
      "X test shape: (1600, 128, 128, 3)\n",
      "Y train shape: (4800, 2)\n",
      "Y test shape: (1600, 2)\n"
     ]
    }
   ],
   "source": [
    "#printing the shape\n",
    "print(f'X train shape:',X_train.shape)\n",
    "print(f'X test shape:',X_test.shape)\n",
    "print(f'Y train shape:',Y_train.shape)\n",
    "print(f'Y test shape:',Y_test.shape)"
   ]
  },
  {
   "cell_type": "code",
   "execution_count": 7,
   "metadata": {},
   "outputs": [],
   "source": [
    "#Spliting\n",
    "\n",
    "x_train, x_val, y_train, y_val = train_test_split(X_train, Y_train, test_size=0.2, random_state=10)"
   ]
  },
  {
   "cell_type": "code",
   "execution_count": 8,
   "metadata": {},
   "outputs": [
    {
     "name": "stdout",
     "output_type": "stream",
     "text": [
      "x train shape: (3840, 128, 128, 3)\n",
      "x val shape: (960, 128, 128, 3)\n",
      "y train shape: (3840, 2)\n",
      "y val shape: (960, 2)\n"
     ]
    }
   ],
   "source": [
    "print(f'x train shape:',x_train.shape)\n",
    "print(f'x val shape:',x_val.shape)\n",
    "print(f'y train shape:',y_train.shape)\n",
    "print(f'y val shape:',y_val.shape)"
   ]
  },
  {
   "cell_type": "code",
   "execution_count": 11,
   "metadata": {},
   "outputs": [
    {
     "name": "stdout",
     "output_type": "stream",
     "text": [
      "Model: \"sequential_1\"\n",
      "_________________________________________________________________\n",
      " Layer (type)                Output Shape              Param #   \n",
      "=================================================================\n",
      " vgg16 (Functional)          (None, 4, 4, 512)         14714688  \n",
      "                                                                 \n",
      " global_average_pooling2d_1   (None, 512)              0         \n",
      " (GlobalAveragePooling2D)                                        \n",
      "                                                                 \n",
      " dropout_1 (Dropout)         (None, 512)               0         \n",
      "                                                                 \n",
      " batch_normalization_1 (Batc  (None, 512)              2048      \n",
      " hNormalization)                                                 \n",
      "                                                                 \n",
      " dense_1 (Dense)             (None, 2)                 1026      \n",
      "                                                                 \n",
      "=================================================================\n",
      "Total params: 14,717,762\n",
      "Trainable params: 14,716,738\n",
      "Non-trainable params: 1,024\n",
      "_________________________________________________________________\n"
     ]
    }
   ],
   "source": [
    "from keras.applications import VGG16\n",
    "\n",
    "def vgg16_model(backbone , lr = 1e-4):\n",
    "  modelvgg16 = Sequential()\n",
    "  modelvgg16.add(backbone)\n",
    "  modelvgg16.add(layers.GlobalAveragePooling2D())\n",
    "  modelvgg16.add(layers.Dropout(0.5))\n",
    "  modelvgg16.add(layers.BatchNormalization())\n",
    "  modelvgg16.add(layers.Dense(2 , activation='softmax'))\n",
    "  \n",
    "  modelvgg16.compile(\n",
    "        loss='categorical_crossentropy',\n",
    "        optimizer=Adam(learning_rate=lr),\n",
    "        metrics=['accuracy']\n",
    "    )\n",
    "    \n",
    "  return modelvgg16\n",
    "\n",
    "\n",
    "vgg16 = VGG16(\n",
    "    weights = 'imagenet',\n",
    "    include_top = False,\n",
    "    input_shape = (128 , 128 , 3)\n",
    ")\n",
    "# call the model \n",
    "modelvgg16 = vgg16_model(vgg16 , lr = 1e-4)\n",
    "modelvgg16.build((None, 224, 224, 3))\n",
    "modelvgg16.summary()"
   ]
  },
  {
   "cell_type": "code",
   "execution_count": 12,
   "metadata": {},
   "outputs": [
    {
     "name": "stdout",
     "output_type": "stream",
     "text": [
      "Epoch 1/10\n",
      "60/60 [==============================] - 630s 11s/step - loss: 0.7530 - accuracy: 0.5539 - val_loss: 0.4055 - val_accuracy: 0.8562\n",
      "Epoch 2/10\n",
      "60/60 [==============================] - 626s 10s/step - loss: 0.6382 - accuracy: 0.6378 - val_loss: 0.4021 - val_accuracy: 0.8562\n",
      "Epoch 3/10\n",
      "60/60 [==============================] - 622s 10s/step - loss: 0.5466 - accuracy: 0.7448 - val_loss: 0.6644 - val_accuracy: 0.6167\n",
      "Epoch 4/10\n",
      "60/60 [==============================] - 750s 13s/step - loss: 0.5158 - accuracy: 0.8078 - val_loss: 8.2693 - val_accuracy: 0.1437\n",
      "Epoch 5/10\n",
      "60/60 [==============================] - 699s 12s/step - loss: 0.4809 - accuracy: 0.8391 - val_loss: 0.4860 - val_accuracy: 0.8562\n",
      "Epoch 6/10\n",
      "60/60 [==============================] - 706s 12s/step - loss: 0.4545 - accuracy: 0.8484 - val_loss: 0.4161 - val_accuracy: 0.8562\n",
      "Epoch 7/10\n",
      "60/60 [==============================] - 738s 12s/step - loss: 0.4394 - accuracy: 0.8484 - val_loss: 0.4123 - val_accuracy: 0.8562\n",
      "Epoch 8/10\n",
      "60/60 [==============================] - 678s 11s/step - loss: 0.4315 - accuracy: 0.8484 - val_loss: 0.4119 - val_accuracy: 0.8562\n",
      "Epoch 9/10\n",
      "60/60 [==============================] - 696s 12s/step - loss: 0.4063 - accuracy: 0.8490 - val_loss: 0.4045 - val_accuracy: 0.8562\n",
      "Epoch 10/10\n",
      "60/60 [==============================] - 680s 11s/step - loss: 0.4164 - accuracy: 0.8469 - val_loss: 0.8165 - val_accuracy: 0.8562\n"
     ]
    }
   ],
   "source": [
    "# Train the student model with MobileNet\n",
    "epochs = 10\n",
    "batch_size = 64\n",
    "student_his_vgg16 = modelvgg16.fit(x_train, y_train,\n",
    "          batch_size=batch_size,\n",
    "          epochs=epochs,\n",
    "          verbose=1,\n",
    "          validation_data=(x_val, y_val))"
   ]
  },
  {
   "cell_type": "code",
   "execution_count": 13,
   "metadata": {},
   "outputs": [
    {
     "name": "stdout",
     "output_type": "stream",
     "text": [
      "30/30 [==============================] - 40s 1s/step\n",
      "The VGG16 Accuracy on the Validation Set: 0.85625\n"
     ]
    }
   ],
   "source": [
    "Y_val_pred = modelvgg16.predict(x_val)\n",
    "print(f'The VGG16 Accuracy on the Validation Set:',accuracy_score(np.argmax(y_val, axis=1), np.argmax(Y_val_pred, axis=1)))"
   ]
  },
  {
   "cell_type": "code",
   "execution_count": 14,
   "metadata": {},
   "outputs": [
    {
     "name": "stdout",
     "output_type": "stream",
     "text": [
      "My Y_test values are:\n",
      " [[1. 0.]\n",
      " [1. 0.]\n",
      " [0. 1.]\n",
      " ...\n",
      " [1. 0.]\n",
      " [1. 0.]\n",
      " [1. 0.]]\n"
     ]
    }
   ],
   "source": [
    "#Now let's check my Y_test values\n",
    "print(f'My Y_test values are:\\n' ,Y_test)"
   ]
  },
  {
   "cell_type": "code",
   "execution_count": 16,
   "metadata": {},
   "outputs": [
    {
     "name": "stdout",
     "output_type": "stream",
     "text": [
      "50/50 [==============================] - 67s 1s/step\n",
      "My predicted Y_test values are:\n",
      " [[0.9978606  0.00213934]\n",
      " [0.9967794  0.00322061]\n",
      " [0.9969626  0.00303733]\n",
      " ...\n",
      " [0.9971687  0.00283123]\n",
      " [0.9970796  0.00292039]\n",
      " [0.9974101  0.00258984]]\n",
      "\n",
      "Time:  67.365269300004 sec\n"
     ]
    }
   ],
   "source": [
    "#Now let's check my predcited values from X_test dataset\t\n",
    "import timeit\n",
    "\n",
    "start = timeit.default_timer()\n",
    "#Your statements here\n",
    "y_pred = modelvgg16.predict(X_test)\n",
    "print(f'My predicted Y_test values are:\\n' ,y_pred)\n",
    "\n",
    "stop = timeit.default_timer()\n",
    "print('\\nTime: ',stop - start,'sec')"
   ]
  },
  {
   "cell_type": "code",
   "execution_count": 17,
   "metadata": {},
   "outputs": [
    {
     "name": "stdout",
     "output_type": "stream",
     "text": [
      "My accuracy on Student model with VGG16 on the Test set is: 0.85\n"
     ]
    }
   ],
   "source": [
    "#Now let's check the accuracy between the original & predicted (Y_test , y_pred)\n",
    "print(f'My accuracy on Student model with VGG16 on the Test set is:',accuracy_score(np.argmax(Y_test, axis=1), np.argmax(y_pred, axis=1)))"
   ]
  },
  {
   "cell_type": "code",
   "execution_count": 18,
   "metadata": {},
   "outputs": [
    {
     "name": "stdout",
     "output_type": "stream",
     "text": [
      "              precision    recall  f1-score   support\n",
      "\n",
      "           0       0.85      1.00      0.92      1360\n",
      "           1       0.00      0.00      0.00       240\n",
      "\n",
      "    accuracy                           0.85      1600\n",
      "   macro avg       0.42      0.50      0.46      1600\n",
      "weighted avg       0.72      0.85      0.78      1600\n",
      "\n"
     ]
    },
    {
     "name": "stderr",
     "output_type": "stream",
     "text": [
      "c:\\Users\\aquat\\AppData\\Local\\Programs\\Python\\Python311\\Lib\\site-packages\\sklearn\\metrics\\_classification.py:1344: UndefinedMetricWarning: Precision and F-score are ill-defined and being set to 0.0 in labels with no predicted samples. Use `zero_division` parameter to control this behavior.\n",
      "  _warn_prf(average, modifier, msg_start, len(result))\n",
      "c:\\Users\\aquat\\AppData\\Local\\Programs\\Python\\Python311\\Lib\\site-packages\\sklearn\\metrics\\_classification.py:1344: UndefinedMetricWarning: Precision and F-score are ill-defined and being set to 0.0 in labels with no predicted samples. Use `zero_division` parameter to control this behavior.\n",
      "  _warn_prf(average, modifier, msg_start, len(result))\n",
      "c:\\Users\\aquat\\AppData\\Local\\Programs\\Python\\Python311\\Lib\\site-packages\\sklearn\\metrics\\_classification.py:1344: UndefinedMetricWarning: Precision and F-score are ill-defined and being set to 0.0 in labels with no predicted samples. Use `zero_division` parameter to control this behavior.\n",
      "  _warn_prf(average, modifier, msg_start, len(result))\n"
     ]
    }
   ],
   "source": [
    "# Print the classification report\n",
    "print(classification_report( np.argmax(Y_test, axis=1), np.argmax(y_pred, axis=1)))"
   ]
  }
 ],
 "metadata": {
  "kernelspec": {
   "display_name": "Python 3",
   "language": "python",
   "name": "python3"
  },
  "language_info": {
   "codemirror_mode": {
    "name": "ipython",
    "version": 3
   },
   "file_extension": ".py",
   "mimetype": "text/x-python",
   "name": "python",
   "nbconvert_exporter": "python",
   "pygments_lexer": "ipython3",
   "version": "3.11.1"
  },
  "orig_nbformat": 4
 },
 "nbformat": 4,
 "nbformat_minor": 2
}
